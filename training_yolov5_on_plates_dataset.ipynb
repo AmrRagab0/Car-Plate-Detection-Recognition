{
  "cells": [
    {
      "cell_type": "markdown",
      "metadata": {
        "id": "view-in-github",
        "colab_type": "text"
      },
      "source": [
        "<a href=\"https://colab.research.google.com/github/AmrRagab0/Car-Plate-Detection-Recognition/blob/master/training_yolov5_on_plates_dataset.ipynb\" target=\"_parent\"><img src=\"https://colab.research.google.com/assets/colab-badge.svg\" alt=\"Open In Colab\"/></a>"
      ]
    },
    {
      "cell_type": "markdown",
      "metadata": {
        "id": "ELFXKzfeP5ha"
      },
      "source": [
        "Amr"
      ]
    },
    {
      "cell_type": "code",
      "execution_count": null,
      "metadata": {
        "colab": {
          "base_uri": "https://localhost:8080/"
        },
        "id": "b-aP9bNJP5Gx",
        "outputId": "7c673424-3cdd-4953-8645-5f359c01f4bc"
      },
      "outputs": [
        {
          "output_type": "stream",
          "name": "stdout",
          "text": [
            "Mounted at /content/gdrive\n"
          ]
        }
      ],
      "source": [
        "from google.colab import drive\n",
        "drive.mount('/content/gdrive')"
      ]
    },
    {
      "cell_type": "code",
      "source": [
        "!pip install gwpy --quiet"
      ],
      "metadata": {
        "colab": {
          "base_uri": "https://localhost:8080/"
        },
        "id": "_8ExAlZu9w4B",
        "outputId": "8dc2049a-2f45-4b92-a250-ac5b32e6b788"
      },
      "execution_count": null,
      "outputs": [
        {
          "output_type": "stream",
          "name": "stdout",
          "text": [
            "\u001b[K     |████████████████████████████████| 1.4 MB 6.8 MB/s \n",
            "\u001b[K     |████████████████████████████████| 51 kB 8.2 MB/s \n",
            "\u001b[K     |████████████████████████████████| 45 kB 3.7 MB/s \n",
            "\u001b[K     |████████████████████████████████| 11.2 MB 60.4 MB/s \n",
            "\u001b[K     |████████████████████████████████| 4.1 MB 56.3 MB/s \n",
            "\u001b[K     |████████████████████████████████| 957 kB 74.0 MB/s \n",
            "\u001b[?25h  Building wheel for ligo-segments (setup.py) ... \u001b[?25l\u001b[?25hdone\n"
          ]
        }
      ]
    },
    {
      "cell_type": "markdown",
      "metadata": {
        "id": "CPKWr_iA2Get"
      },
      "source": [
        "# FiftyOne"
      ]
    },
    {
      "cell_type": "code",
      "execution_count": null,
      "metadata": {
        "id": "2_4ViqNksqv0"
      },
      "outputs": [],
      "source": [
        "%%capture\n",
        "!pip install opencv-python-headless==4.5.4.60\n"
      ]
    },
    {
      "cell_type": "code",
      "execution_count": null,
      "metadata": {
        "id": "_hiwl8TrtKtu"
      },
      "outputs": [],
      "source": [
        "%%capture\n",
        "!pip install fiftyone\n"
      ]
    },
    {
      "cell_type": "code",
      "execution_count": null,
      "metadata": {
        "id": "uGzogi9dtXhS",
        "colab": {
          "base_uri": "https://localhost:8080/"
        },
        "outputId": "af42fa9e-d1fc-4393-e71c-0abc88516bb2"
      },
      "outputs": [
        {
          "output_type": "stream",
          "name": "stdout",
          "text": [
            "Migrating database to v0.16.6\n"
          ]
        },
        {
          "output_type": "stream",
          "name": "stderr",
          "text": [
            "INFO:fiftyone.migrations.runner:Migrating database to v0.16.6\n"
          ]
        }
      ],
      "source": [
        "import fiftyone as fo\n"
      ]
    },
    {
      "cell_type": "markdown",
      "source": [
        "# Preparing the dataset"
      ],
      "metadata": {
        "id": "HsTLn_7m_PAQ"
      }
    },
    {
      "cell_type": "code",
      "source": [],
      "metadata": {
        "id": "LVHXBhhw_TWl"
      },
      "execution_count": null,
      "outputs": []
    },
    {
      "cell_type": "code",
      "execution_count": null,
      "metadata": {
        "id": "X26r1DwxF8QO"
      },
      "outputs": [],
      "source": [
        "!cp -R /content/gdrive/MyDrive/Internship/yollo /content/yollo # copy content of yollo to colab\n"
      ]
    },
    {
      "cell_type": "code",
      "source": [
        "import os\n",
        "import shutil\n",
        "count = 0\n",
        "source_folder = \"/content/gdrive/MyDrive/Internship_car/images/test/data/\"\n",
        "destination_folder = \"/content/images/test/data/\"\n",
        "\n",
        "for file_name in os.listdir(source_folder):\n",
        "    count += 1\n",
        "    source = source_folder + file_name\n",
        "    destination = destination_folder + file_name\n",
        "    shutil.copy(source, destination)\n",
        "    #print('copied', file_name)\n",
        "print(count)"
      ],
      "metadata": {
        "colab": {
          "base_uri": "https://localhost:8080/"
        },
        "id": "jWru0z9iseFG",
        "outputId": "4a3be2d1-3029-4aad-99ef-f6307d649fa0"
      },
      "execution_count": null,
      "outputs": [
        {
          "output_type": "stream",
          "name": "stdout",
          "text": [
            "453\n"
          ]
        }
      ]
    },
    {
      "cell_type": "code",
      "source": [],
      "metadata": {
        "id": "NJigwvVy-5am"
      },
      "execution_count": null,
      "outputs": []
    },
    {
      "cell_type": "code",
      "execution_count": null,
      "metadata": {
        "id": "3_Yd3Tu8tae8"
      },
      "outputs": [],
      "source": [
        "name = \"dataset\"\n",
        "dataset_dir = \"/content/gdrive/MyDrive/Internship_car/datasetCOCO\"\n",
        "\n",
        "# Create the dataset\n",
        "dataset = fo.Dataset.from_dir(\n",
        "    dataset_dir=dataset_dir,\n",
        "    dataset_type=fo.types.COCODetectionDataset,\n",
        "    name=name,\n",
        ")\n",
        "\n",
        "# View summary info about the dataset\n",
        "print(dataset)\n",
        "\n",
        "# Print the first few samples in the dataset\n",
        "print(dataset.head())"
      ]
    },
    {
      "cell_type": "markdown",
      "metadata": {
        "id": "1iLu64G3Yf4W"
      },
      "source": [
        "### Splitting the data"
      ]
    },
    {
      "cell_type": "code",
      "execution_count": null,
      "metadata": {
        "id": "gB9gb37rucZW",
        "colab": {
          "base_uri": "https://localhost:8080/",
          "height": 235
        },
        "outputId": "334c6820-b64d-4a54-8bfa-cbaabbed1f5e"
      },
      "outputs": [
        {
          "output_type": "error",
          "ename": "NameError",
          "evalue": "ignored",
          "traceback": [
            "\u001b[0;31m---------------------------------------------------------------------------\u001b[0m",
            "\u001b[0;31mNameError\u001b[0m                                 Traceback (most recent call last)",
            "\u001b[0;32m<ipython-input-7-0dccd4238c2c>\u001b[0m in \u001b[0;36m<module>\u001b[0;34m\u001b[0m\n\u001b[1;32m     10\u001b[0m \u001b[0;31m# Export the splits\u001b[0m\u001b[0;34m\u001b[0m\u001b[0;34m\u001b[0m\u001b[0;34m\u001b[0m\u001b[0m\n\u001b[1;32m     11\u001b[0m \u001b[0;32mfor\u001b[0m \u001b[0msplit\u001b[0m \u001b[0;32min\u001b[0m \u001b[0msplits\u001b[0m\u001b[0;34m:\u001b[0m\u001b[0;34m\u001b[0m\u001b[0;34m\u001b[0m\u001b[0m\n\u001b[0;32m---> 12\u001b[0;31m     \u001b[0msplit_view\u001b[0m \u001b[0;34m=\u001b[0m \u001b[0mdataset\u001b[0m\u001b[0;34m.\u001b[0m\u001b[0mmatch_tags\u001b[0m\u001b[0;34m(\u001b[0m\u001b[0msplit\u001b[0m\u001b[0;34m)\u001b[0m\u001b[0;34m\u001b[0m\u001b[0;34m\u001b[0m\u001b[0m\n\u001b[0m\u001b[1;32m     13\u001b[0m     split_view.export(\n\u001b[1;32m     14\u001b[0m         \u001b[0mexport_dir\u001b[0m\u001b[0;34m=\u001b[0m\u001b[0mexport_dir\u001b[0m\u001b[0;34m,\u001b[0m\u001b[0;34m\u001b[0m\u001b[0;34m\u001b[0m\u001b[0m\n",
            "\u001b[0;31mNameError\u001b[0m: name 'dataset' is not defined"
          ]
        }
      ],
      "source": [
        "export_dir = \"/content/gdrive/MyDrive/Internship/yollo\"\n",
        "label_field = \"ground_truth\"  # for example\n",
        "\n",
        "# The splits to export\n",
        "splits = [\"train\", \"val\",\"test\"]\n",
        "\n",
        "# All splits must use the same classes list\n",
        "classes=['standard','non-standard','car', 'motorcycle', 'airplane', 'bus', 'train', 'truck']\n",
        "\n",
        "# Export the splits\n",
        "for split in splits:\n",
        "    split_view = dataset.match_tags(split)\n",
        "    split_view.export(\n",
        "        export_dir=export_dir,\n",
        "        dataset_type=fo.types.YOLOv5Dataset,\n",
        "        label_field=label_field,\n",
        "        split=split,\n",
        "        classes=classes,\n",
        "    )"
      ]
    },
    {
      "cell_type": "code",
      "execution_count": null,
      "metadata": {
        "id": "7hEFKxkh1TjU"
      },
      "outputs": [],
      "source": [
        "#print(dataset.count_sample_tags())\n",
        "%%capture\n",
        "!pip install opencv-python-headless==4.5.4.60\n",
        "!pip install fiftyone"
      ]
    },
    {
      "cell_type": "code",
      "execution_count": null,
      "metadata": {
        "id": "Ai6OmkEr2QjD"
      },
      "outputs": [],
      "source": [
        "#!pip install fiftyone.utils.splits\n",
        "#import fiftyone.utils.splits as fous\n",
        "#fous.random_split(dataset, {\"train\": 0.7, \"test\": 0.2, \"val\": 0.1})\n"
      ]
    },
    {
      "cell_type": "markdown",
      "metadata": {
        "id": "wOEIaZLY2MYx"
      },
      "source": [
        "#YOLOV5"
      ]
    },
    {
      "cell_type": "markdown",
      "metadata": {
        "id": "BrHvcZyhsESr"
      },
      "source": [
        "### Setting up Yolo"
      ]
    },
    {
      "cell_type": "code",
      "execution_count": null,
      "metadata": {
        "id": "wbvMlHd_QwMG"
      },
      "outputs": [],
      "source": [
        "%%capture\n",
        "!pip install wandb\n",
        "!git clone https://github.com/ultralytics/yolov5  # clone\n",
        "%cd yolov5\n",
        "%pip install -qr requirements.txt  # install\n",
        "\n",
        "import torch\n",
        "import utils\n",
        "display = utils.notebook_init()  # checks"
      ]
    },
    {
      "cell_type": "code",
      "execution_count": null,
      "metadata": {
        "id": "XQv2iO3JJRkD"
      },
      "outputs": [],
      "source": [
        "%%capture\n",
        "import torch\n",
        "import os\n",
        "from IPython.display import Image, clear_output  # to display images\n",
        "\n",
        "print(f\"Setup complete. Using torch {torch.__version__} ({torch.cuda.get_device_properties(0).name if torch.cuda.is_available() else 'CPU'})\")"
      ]
    },
    {
      "cell_type": "markdown",
      "metadata": {
        "id": "dMjKduUOuUeV"
      },
      "source": [
        "copying images from original drive to my drive ( to avoid the error)"
      ]
    },
    {
      "cell_type": "code",
      "execution_count": null,
      "metadata": {
        "id": "vY2sLmsW9q2I"
      },
      "outputs": [],
      "source": [
        "!cp -R /content/gdrive/MyDrive/Internship_car/yollo/images /content/yollo\n"
      ]
    },
    {
      "cell_type": "code",
      "source": [
        "!cp -R /content/gdrive/MyDrive/car_annotions/All/labels /content/yollo"
      ],
      "metadata": {
        "id": "5e8-HXOxCb8f"
      },
      "execution_count": null,
      "outputs": []
    },
    {
      "cell_type": "markdown",
      "metadata": {
        "id": "01eSPNIK-rbX"
      },
      "source": [
        "# Training"
      ]
    },
    {
      "cell_type": "code",
      "execution_count": null,
      "metadata": {
        "colab": {
          "base_uri": "https://localhost:8080/"
        },
        "id": "V2XncwWQJhqH",
        "outputId": "d0ef1db5-edd3-402e-ad82-aef0bc4120e2"
      },
      "outputs": [
        {
          "output_type": "stream",
          "name": "stdout",
          "text": [
            "\u001b[34m\u001b[1mwandb\u001b[0m: (1) Create a W&B account\n",
            "\u001b[34m\u001b[1mwandb\u001b[0m: (2) Use an existing W&B account\n",
            "\u001b[34m\u001b[1mwandb\u001b[0m: (3) Don't visualize my results\n",
            "\u001b[34m\u001b[1mwandb\u001b[0m: Enter your choice: (30 second timeout) 3\n",
            "\u001b[34m\u001b[1mwandb\u001b[0m: You chose 'Don't visualize my results'\n",
            "\u001b[34m\u001b[1mtrain: \u001b[0mweights=yolov5x.pt, cfg=yolov5x.yaml, data=/content/yollo/dataset.yaml, hyp=hyp.scratch-high.yaml, epochs=50, batch_size=16, imgsz=640, rect=False, resume=False, nosave=False, noval=False, noautoanchor=False, noplots=False, evolve=None, bucket=, cache=ram, image_weights=False, device=, multi_scale=False, single_cls=False, optimizer=SGD, sync_bn=False, workers=8, project=runs/train, name=exp, exist_ok=False, quad=False, cos_lr=False, label_smoothing=0.0, patience=100, freeze=[0], save_period=-1, seed=0, local_rank=-1, entity=None, upload_dataset=False, bbox_interval=-1, artifact_alias=latest\n",
            "\u001b[34m\u001b[1mgithub: \u001b[0mup to date with https://github.com/ultralytics/yolov5 ✅\n",
            "YOLOv5 🚀 v6.2-77-g4a37381 Python-3.7.13 torch-1.12.1+cu113 CUDA:0 (Tesla T4, 15110MiB)\n",
            "\n",
            "\u001b[34m\u001b[1mhyperparameters: \u001b[0mlr0=0.01, lrf=0.1, momentum=0.937, weight_decay=0.0005, warmup_epochs=3.0, warmup_momentum=0.8, warmup_bias_lr=0.1, box=0.05, cls=0.3, cls_pw=1.0, obj=0.7, obj_pw=1.0, iou_t=0.2, anchor_t=4.0, fl_gamma=0.0, hsv_h=0.015, hsv_s=0.7, hsv_v=0.4, degrees=0.0, translate=0.1, scale=0.9, shear=0.0, perspective=0.0, flipud=0.0, fliplr=0.5, mosaic=1.0, mixup=0.1, copy_paste=0.1\n",
            "\u001b[34m\u001b[1mWeights & Biases: \u001b[0mrun 'pip install wandb' to automatically track and visualize YOLOv5 🚀 runs in Weights & Biases\n",
            "\u001b[34m\u001b[1mClearML: \u001b[0mrun 'pip install clearml' to automatically track, visualize and remotely train YOLOv5 🚀 in ClearML\n",
            "\u001b[34m\u001b[1mTensorBoard: \u001b[0mStart with 'tensorboard --logdir runs/train', view at http://localhost:6006/\n",
            "Downloading https://github.com/ultralytics/yolov5/releases/download/v6.2/yolov5x.pt to yolov5x.pt...\n",
            "100% 166M/166M [00:04<00:00, 35.4MB/s]\n",
            "\n",
            "Overriding model.yaml nc=80 with nc=8\n",
            "\n",
            "                 from  n    params  module                                  arguments                     \n",
            "  0                -1  1      8800  models.common.Conv                      [3, 80, 6, 2, 2]              \n",
            "  1                -1  1    115520  models.common.Conv                      [80, 160, 3, 2]               \n",
            "  2                -1  4    309120  models.common.C3                        [160, 160, 4]                 \n",
            "  3                -1  1    461440  models.common.Conv                      [160, 320, 3, 2]              \n",
            "  4                -1  8   2259200  models.common.C3                        [320, 320, 8]                 \n",
            "  5                -1  1   1844480  models.common.Conv                      [320, 640, 3, 2]              \n",
            "  6                -1 12  13125120  models.common.C3                        [640, 640, 12]                \n",
            "  7                -1  1   7375360  models.common.Conv                      [640, 1280, 3, 2]             \n",
            "  8                -1  4  19676160  models.common.C3                        [1280, 1280, 4]               \n",
            "  9                -1  1   4099840  models.common.SPPF                      [1280, 1280, 5]               \n",
            " 10                -1  1    820480  models.common.Conv                      [1280, 640, 1, 1]             \n",
            " 11                -1  1         0  torch.nn.modules.upsampling.Upsample    [None, 2, 'nearest']          \n",
            " 12           [-1, 6]  1         0  models.common.Concat                    [1]                           \n",
            " 13                -1  4   5332480  models.common.C3                        [1280, 640, 4, False]         \n",
            " 14                -1  1    205440  models.common.Conv                      [640, 320, 1, 1]              \n",
            " 15                -1  1         0  torch.nn.modules.upsampling.Upsample    [None, 2, 'nearest']          \n",
            " 16           [-1, 4]  1         0  models.common.Concat                    [1]                           \n",
            " 17                -1  4   1335040  models.common.C3                        [640, 320, 4, False]          \n",
            " 18                -1  1    922240  models.common.Conv                      [320, 320, 3, 2]              \n",
            " 19          [-1, 14]  1         0  models.common.Concat                    [1]                           \n",
            " 20                -1  4   4922880  models.common.C3                        [640, 640, 4, False]          \n",
            " 21                -1  1   3687680  models.common.Conv                      [640, 640, 3, 2]              \n",
            " 22          [-1, 10]  1         0  models.common.Concat                    [1]                           \n",
            " 23                -1  4  19676160  models.common.C3                        [1280, 1280, 4, False]        \n",
            " 24      [17, 20, 23]  1     87477  models.yolo.Detect                      [8, [[10, 13, 16, 30, 33, 23], [30, 61, 62, 45, 59, 119], [116, 90, 156, 198, 373, 326]], [320, 640, 1280]]\n",
            "YOLOv5x summary: 567 layers, 86264917 parameters, 86264917 gradients, 204.8 GFLOPs\n",
            "\n",
            "Transferred 738/745 items from yolov5x.pt\n",
            "\u001b[34m\u001b[1mAMP: \u001b[0mchecks passed ✅\n",
            "\u001b[34m\u001b[1moptimizer:\u001b[0m SGD(lr=0.01) with parameter groups 123 weight(decay=0.0), 126 weight(decay=0.0005), 126 bias\n",
            "\u001b[34m\u001b[1malbumentations: \u001b[0mBlur(p=0.01, blur_limit=(3, 7)), MedianBlur(p=0.01, blur_limit=(3, 7)), ToGray(p=0.01), CLAHE(p=0.01, clip_limit=(1, 4.0), tile_grid_size=(8, 8))\n",
            "\u001b[34m\u001b[1mtrain: \u001b[0mScanning '/content/yollo/labels/train' images and labels...3161 found, 4 missing, 0 empty, 0 corrupt: 100% 3165/3165 [00:01<00:00, 2011.99it/s]\n",
            "\u001b[34m\u001b[1mtrain: \u001b[0mNew cache created: /content/yollo/labels/train.cache\n",
            "\u001b[34m\u001b[1mtrain: \u001b[0mCaching images (2.2GB ram): 100% 3165/3165 [00:14<00:00, 212.58it/s]\n",
            "\u001b[34m\u001b[1mval: \u001b[0mScanning '/content/yollo/labels/val' images and labels...452 found, 0 missing, 0 empty, 0 corrupt: 100% 452/452 [00:00<00:00, 622.57it/s]\n",
            "\u001b[34m\u001b[1mval: \u001b[0mNew cache created: /content/yollo/labels/val.cache\n",
            "\u001b[34m\u001b[1mval: \u001b[0mCaching images (0.3GB ram): 100% 452/452 [00:03<00:00, 126.34it/s]\n",
            "\n",
            "\u001b[34m\u001b[1mAutoAnchor: \u001b[0m4.15 anchors/target, 1.000 Best Possible Recall (BPR). Current anchors are a good fit to dataset ✅\n",
            "Plotting labels to runs/train/exp/labels.jpg... \n",
            "Image sizes 640 train, 640 val\n",
            "Using 2 dataloader workers\n",
            "Logging results to \u001b[1mruns/train/exp\u001b[0m\n",
            "Starting training for 50 epochs...\n",
            "\n",
            "      Epoch    GPU_mem   box_loss   obj_loss   cls_loss  Instances       Size\n",
            "       0/49      13.7G     0.0629    0.02989     0.0225         97        640: 100% 198/198 [03:46<00:00,  1.15s/it]\n",
            "                 Class     Images  Instances          P          R     mAP@.5 mAP@.5:.95: 100% 15/15 [00:09<00:00,  1.63it/s]\n",
            "                   all        452       1133      0.429      0.534      0.457      0.258\n",
            "\n",
            "      Epoch    GPU_mem   box_loss   obj_loss   cls_loss  Instances       Size\n",
            "       1/49      14.2G    0.04843    0.01812    0.01357         84        640: 100% 198/198 [03:41<00:00,  1.12s/it]\n",
            "                 Class     Images  Instances          P          R     mAP@.5 mAP@.5:.95: 100% 15/15 [00:07<00:00,  1.91it/s]\n",
            "                   all        452       1133      0.694      0.733      0.614      0.374\n",
            "\n",
            "      Epoch    GPU_mem   box_loss   obj_loss   cls_loss  Instances       Size\n",
            "       2/49      14.2G     0.0436    0.01504   0.009632         68        640: 100% 198/198 [03:39<00:00,  1.11s/it]\n",
            "                 Class     Images  Instances          P          R     mAP@.5 mAP@.5:.95: 100% 15/15 [00:07<00:00,  1.90it/s]\n",
            "                   all        452       1133      0.888      0.743      0.795      0.472\n",
            "\n",
            "      Epoch    GPU_mem   box_loss   obj_loss   cls_loss  Instances       Size\n",
            "       3/49      14.2G    0.03628    0.01357   0.007557         78        640: 100% 198/198 [03:38<00:00,  1.11s/it]\n",
            "                 Class     Images  Instances          P          R     mAP@.5 mAP@.5:.95: 100% 15/15 [00:07<00:00,  1.90it/s]\n",
            "                   all        452       1133      0.915      0.758      0.807        0.6\n",
            "\n",
            "      Epoch    GPU_mem   box_loss   obj_loss   cls_loss  Instances       Size\n",
            "       4/49      14.2G    0.03163    0.01279   0.006333         89        640: 100% 198/198 [03:39<00:00,  1.11s/it]\n",
            "                 Class     Images  Instances          P          R     mAP@.5 mAP@.5:.95: 100% 15/15 [00:07<00:00,  1.90it/s]\n",
            "                   all        452       1133       0.73      0.926      0.858      0.681\n",
            "\n",
            "      Epoch    GPU_mem   box_loss   obj_loss   cls_loss  Instances       Size\n",
            "       5/49      14.2G    0.02871    0.01216   0.005687         72        640: 100% 198/198 [03:38<00:00,  1.11s/it]\n",
            "                 Class     Images  Instances          P          R     mAP@.5 mAP@.5:.95: 100% 15/15 [00:07<00:00,  1.89it/s]\n",
            "                   all        452       1133      0.785      0.874      0.866      0.689\n",
            "\n",
            "      Epoch    GPU_mem   box_loss   obj_loss   cls_loss  Instances       Size\n",
            "       6/49      14.2G    0.02687    0.01198   0.005257         82        640: 100% 198/198 [03:38<00:00,  1.11s/it]\n",
            "                 Class     Images  Instances          P          R     mAP@.5 mAP@.5:.95: 100% 15/15 [00:07<00:00,  1.89it/s]\n",
            "                   all        452       1133      0.757      0.946      0.879      0.715\n",
            "\n",
            "      Epoch    GPU_mem   box_loss   obj_loss   cls_loss  Instances       Size\n",
            "       7/49      14.2G     0.0256    0.01152    0.00513         62        640: 100% 198/198 [03:39<00:00,  1.11s/it]\n",
            "                 Class     Images  Instances          P          R     mAP@.5 mAP@.5:.95: 100% 15/15 [00:07<00:00,  1.89it/s]\n",
            "                   all        452       1133       0.76      0.986      0.885      0.736\n",
            "\n",
            "      Epoch    GPU_mem   box_loss   obj_loss   cls_loss  Instances       Size\n",
            "       8/49      14.2G    0.02416    0.01143   0.004815         83        640: 100% 198/198 [03:38<00:00,  1.10s/it]\n",
            "                 Class     Images  Instances          P          R     mAP@.5 mAP@.5:.95: 100% 15/15 [00:07<00:00,  1.89it/s]\n",
            "                   all        452       1133      0.829      0.958      0.934      0.772\n",
            "\n",
            "      Epoch    GPU_mem   box_loss   obj_loss   cls_loss  Instances       Size\n",
            "       9/49      14.2G    0.02352     0.0112   0.004604         76        640: 100% 198/198 [03:38<00:00,  1.11s/it]\n",
            "                 Class     Images  Instances          P          R     mAP@.5 mAP@.5:.95: 100% 15/15 [00:07<00:00,  1.89it/s]\n",
            "                   all        452       1133      0.826      0.929      0.891      0.753\n",
            "\n",
            "      Epoch    GPU_mem   box_loss   obj_loss   cls_loss  Instances       Size\n",
            "      10/49      14.2G    0.02253    0.01103   0.004505         81        640: 100% 198/198 [03:38<00:00,  1.11s/it]\n",
            "                 Class     Images  Instances          P          R     mAP@.5 mAP@.5:.95: 100% 15/15 [00:07<00:00,  1.89it/s]\n",
            "                   all        452       1133      0.866      0.935      0.945      0.808\n",
            "\n",
            "      Epoch    GPU_mem   box_loss   obj_loss   cls_loss  Instances       Size\n",
            "      11/49      14.2G    0.02232    0.01104   0.004385         67        640: 100% 198/198 [03:39<00:00,  1.11s/it]\n",
            "                 Class     Images  Instances          P          R     mAP@.5 mAP@.5:.95: 100% 15/15 [00:07<00:00,  1.88it/s]\n",
            "                   all        452       1133      0.843      0.924      0.929      0.779\n",
            "\n",
            "      Epoch    GPU_mem   box_loss   obj_loss   cls_loss  Instances       Size\n",
            "      12/49      14.2G    0.02081    0.01057    0.00423         74        640: 100% 198/198 [03:39<00:00,  1.11s/it]\n",
            "                 Class     Images  Instances          P          R     mAP@.5 mAP@.5:.95: 100% 15/15 [00:07<00:00,  1.88it/s]\n",
            "                   all        452       1133      0.872      0.939       0.95      0.818\n",
            "\n",
            "      Epoch    GPU_mem   box_loss   obj_loss   cls_loss  Instances       Size\n",
            "      13/49      14.2G     0.0206    0.01044   0.004007         62        640: 100% 198/198 [03:39<00:00,  1.11s/it]\n",
            "                 Class     Images  Instances          P          R     mAP@.5 mAP@.5:.95: 100% 15/15 [00:07<00:00,  1.90it/s]\n",
            "                   all        452       1133      0.844      0.977      0.937      0.808\n",
            "\n",
            "      Epoch    GPU_mem   box_loss   obj_loss   cls_loss  Instances       Size\n",
            "      14/49      14.2G    0.01983    0.01036   0.003949         46        640: 100% 198/198 [03:38<00:00,  1.10s/it]\n",
            "                 Class     Images  Instances          P          R     mAP@.5 mAP@.5:.95: 100% 15/15 [00:07<00:00,  1.89it/s]\n",
            "                   all        452       1133      0.836      0.984      0.933      0.798\n",
            "\n",
            "      Epoch    GPU_mem   box_loss   obj_loss   cls_loss  Instances       Size\n",
            "      15/49      14.2G    0.01987    0.01036   0.003837         93        640: 100% 198/198 [03:39<00:00,  1.11s/it]\n",
            "                 Class     Images  Instances          P          R     mAP@.5 mAP@.5:.95: 100% 15/15 [00:07<00:00,  1.88it/s]\n",
            "                   all        452       1133      0.826      0.981      0.924        0.8\n",
            "\n",
            "      Epoch    GPU_mem   box_loss   obj_loss   cls_loss  Instances       Size\n",
            "      16/49      14.2G    0.01926    0.01017   0.003614         76        640: 100% 198/198 [03:38<00:00,  1.10s/it]\n",
            "                 Class     Images  Instances          P          R     mAP@.5 mAP@.5:.95: 100% 15/15 [00:07<00:00,  1.88it/s]\n",
            "                   all        452       1133      0.867      0.976      0.948      0.836\n",
            "\n",
            "      Epoch    GPU_mem   box_loss   obj_loss   cls_loss  Instances       Size\n",
            "      17/49      14.2G    0.01853    0.01006   0.003608         86        640: 100% 198/198 [03:38<00:00,  1.10s/it]\n",
            "                 Class     Images  Instances          P          R     mAP@.5 mAP@.5:.95: 100% 15/15 [00:07<00:00,  1.88it/s]\n",
            "                   all        452       1133       0.85      0.944      0.949      0.815\n",
            "\n",
            "      Epoch    GPU_mem   box_loss   obj_loss   cls_loss  Instances       Size\n",
            "      18/49      14.2G    0.01825   0.009487   0.003546         74        640: 100% 198/198 [03:38<00:00,  1.11s/it]\n",
            "                 Class     Images  Instances          P          R     mAP@.5 mAP@.5:.95: 100% 15/15 [00:07<00:00,  1.89it/s]\n",
            "                   all        452       1133      0.845      0.975      0.912      0.782\n",
            "\n",
            "      Epoch    GPU_mem   box_loss   obj_loss   cls_loss  Instances       Size\n",
            "      19/49      14.2G     0.0178   0.009847   0.003533         88        640: 100% 198/198 [03:38<00:00,  1.10s/it]\n",
            "                 Class     Images  Instances          P          R     mAP@.5 mAP@.5:.95: 100% 15/15 [00:08<00:00,  1.87it/s]\n",
            "                   all        452       1133      0.839      0.978       0.93       0.81\n",
            "\n",
            "      Epoch    GPU_mem   box_loss   obj_loss   cls_loss  Instances       Size\n",
            "      20/49      14.2G    0.01795   0.009741   0.003517        101        640: 100% 198/198 [03:38<00:00,  1.11s/it]\n",
            "                 Class     Images  Instances          P          R     mAP@.5 mAP@.5:.95: 100% 15/15 [00:07<00:00,  1.88it/s]\n",
            "                   all        452       1133        0.9      0.912      0.939      0.813\n",
            "\n",
            "      Epoch    GPU_mem   box_loss   obj_loss   cls_loss  Instances       Size\n",
            "      21/49      14.2G    0.01735   0.009827   0.003451         97        640: 100% 198/198 [03:39<00:00,  1.11s/it]\n",
            "                 Class     Images  Instances          P          R     mAP@.5 mAP@.5:.95: 100% 15/15 [00:08<00:00,  1.87it/s]\n",
            "                   all        452       1133      0.924      0.867      0.934      0.816\n",
            "\n",
            "      Epoch    GPU_mem   box_loss   obj_loss   cls_loss  Instances       Size\n",
            "      22/49      14.2G    0.01718   0.009476   0.003294         65        640: 100% 198/198 [03:38<00:00,  1.10s/it]\n",
            "                 Class     Images  Instances          P          R     mAP@.5 mAP@.5:.95: 100% 15/15 [00:08<00:00,  1.87it/s]\n",
            "                   all        452       1133      0.855      0.889      0.915       0.81\n",
            "\n",
            "      Epoch    GPU_mem   box_loss   obj_loss   cls_loss  Instances       Size\n",
            "      23/49      14.2G     0.0168   0.009356   0.003221         71        640: 100% 198/198 [03:38<00:00,  1.10s/it]\n",
            "                 Class     Images  Instances          P          R     mAP@.5 mAP@.5:.95: 100% 15/15 [00:07<00:00,  1.89it/s]\n",
            "                   all        452       1133      0.862      0.925      0.925      0.819\n",
            "\n",
            "      Epoch    GPU_mem   box_loss   obj_loss   cls_loss  Instances       Size\n",
            "      24/49      14.2G    0.01633   0.009307   0.003185         78        640: 100% 198/198 [03:37<00:00,  1.10s/it]\n",
            "                 Class     Images  Instances          P          R     mAP@.5 mAP@.5:.95: 100% 15/15 [00:07<00:00,  1.88it/s]\n",
            "                   all        452       1133      0.836      0.888      0.896      0.781\n",
            "\n",
            "      Epoch    GPU_mem   box_loss   obj_loss   cls_loss  Instances       Size\n",
            "      25/49      14.2G    0.01591   0.008872    0.00307         89        640: 100% 198/198 [03:37<00:00,  1.10s/it]\n",
            "                 Class     Images  Instances          P          R     mAP@.5 mAP@.5:.95: 100% 15/15 [00:07<00:00,  1.88it/s]\n",
            "                   all        452       1133      0.862      0.906      0.912      0.807\n",
            "\n",
            "      Epoch    GPU_mem   box_loss   obj_loss   cls_loss  Instances       Size\n",
            "      26/49      14.2G    0.01596    0.00916   0.003087         60        640: 100% 198/198 [03:37<00:00,  1.10s/it]\n",
            "                 Class     Images  Instances          P          R     mAP@.5 mAP@.5:.95: 100% 15/15 [00:08<00:00,  1.87it/s]\n",
            "                   all        452       1133      0.894      0.967      0.938      0.803\n",
            "\n",
            "      Epoch    GPU_mem   box_loss   obj_loss   cls_loss  Instances       Size\n",
            "      27/49      14.2G    0.01579   0.009071   0.003027         76        640: 100% 198/198 [03:37<00:00,  1.10s/it]\n",
            "                 Class     Images  Instances          P          R     mAP@.5 mAP@.5:.95: 100% 15/15 [00:07<00:00,  1.88it/s]\n",
            "                   all        452       1133      0.839      0.932       0.92      0.817\n",
            "\n",
            "      Epoch    GPU_mem   box_loss   obj_loss   cls_loss  Instances       Size\n",
            "      28/49      14.2G    0.01532   0.008741   0.002907         67        640: 100% 198/198 [03:37<00:00,  1.10s/it]\n",
            "                 Class     Images  Instances          P          R     mAP@.5 mAP@.5:.95: 100% 15/15 [00:08<00:00,  1.87it/s]\n",
            "                   all        452       1133      0.881      0.969      0.941      0.831\n",
            "\n",
            "      Epoch    GPU_mem   box_loss   obj_loss   cls_loss  Instances       Size\n",
            "      29/49      14.2G    0.01531   0.009054   0.002942         67        640: 100% 198/198 [03:37<00:00,  1.10s/it]\n",
            "                 Class     Images  Instances          P          R     mAP@.5 mAP@.5:.95: 100% 15/15 [00:08<00:00,  1.87it/s]\n",
            "                   all        452       1133      0.836      0.955      0.913      0.791\n",
            "\n",
            "      Epoch    GPU_mem   box_loss   obj_loss   cls_loss  Instances       Size\n",
            "      30/49      14.2G    0.01492   0.008356   0.002746         72        640: 100% 198/198 [03:37<00:00,  1.10s/it]\n",
            "                 Class     Images  Instances          P          R     mAP@.5 mAP@.5:.95: 100% 15/15 [00:07<00:00,  1.88it/s]\n",
            "                   all        452       1133      0.852       0.98       0.93       0.83\n",
            "\n",
            "      Epoch    GPU_mem   box_loss   obj_loss   cls_loss  Instances       Size\n",
            "      31/49      14.2G    0.01476   0.008608   0.002803         78        640: 100% 198/198 [03:37<00:00,  1.10s/it]\n",
            "                 Class     Images  Instances          P          R     mAP@.5 mAP@.5:.95: 100% 15/15 [00:07<00:00,  1.89it/s]\n",
            "                   all        452       1133      0.883      0.927      0.922      0.822\n",
            "\n",
            "      Epoch    GPU_mem   box_loss   obj_loss   cls_loss  Instances       Size\n",
            "      32/49      14.2G    0.01461   0.008779   0.002791         72        640: 100% 198/198 [03:37<00:00,  1.10s/it]\n",
            "                 Class     Images  Instances          P          R     mAP@.5 mAP@.5:.95: 100% 15/15 [00:08<00:00,  1.87it/s]\n",
            "                   all        452       1133      0.837      0.916      0.911      0.814\n",
            "\n",
            "      Epoch    GPU_mem   box_loss   obj_loss   cls_loss  Instances       Size\n",
            "      33/49      14.2G    0.01455   0.008461     0.0028         87        640: 100% 198/198 [03:38<00:00,  1.11s/it]\n",
            "                 Class     Images  Instances          P          R     mAP@.5 mAP@.5:.95: 100% 15/15 [00:07<00:00,  1.89it/s]\n",
            "                   all        452       1133      0.894      0.916      0.912      0.813\n",
            "\n",
            "      Epoch    GPU_mem   box_loss   obj_loss   cls_loss  Instances       Size\n",
            "      34/49      14.2G     0.0142   0.008441   0.002667         71        640: 100% 198/198 [03:38<00:00,  1.10s/it]\n",
            "                 Class     Images  Instances          P          R     mAP@.5 mAP@.5:.95: 100% 15/15 [00:08<00:00,  1.86it/s]\n",
            "                   all        452       1133      0.845      0.926      0.899      0.805\n",
            "\n",
            "      Epoch    GPU_mem   box_loss   obj_loss   cls_loss  Instances       Size\n",
            "      35/49      14.2G    0.01407   0.008399   0.002706         91        640: 100% 198/198 [03:38<00:00,  1.10s/it]\n",
            "                 Class     Images  Instances          P          R     mAP@.5 mAP@.5:.95: 100% 15/15 [00:07<00:00,  1.88it/s]\n",
            "                   all        452       1133      0.876      0.923      0.911      0.817\n",
            "\n",
            "      Epoch    GPU_mem   box_loss   obj_loss   cls_loss  Instances       Size\n",
            "      36/49      14.2G    0.01375   0.008118   0.002627         79        640: 100% 198/198 [03:38<00:00,  1.11s/it]\n",
            "                 Class     Images  Instances          P          R     mAP@.5 mAP@.5:.95: 100% 15/15 [00:08<00:00,  1.86it/s]\n",
            "                   all        452       1133      0.834      0.946      0.912      0.815\n",
            "\n",
            "      Epoch    GPU_mem   box_loss   obj_loss   cls_loss  Instances       Size\n",
            "      37/49      14.2G    0.01353    0.00814    0.00257         68        640: 100% 198/198 [03:38<00:00,  1.11s/it]\n",
            "                 Class     Images  Instances          P          R     mAP@.5 mAP@.5:.95: 100% 15/15 [00:07<00:00,  1.88it/s]\n",
            "                   all        452       1133      0.891      0.971       0.93      0.827\n",
            "\n",
            "      Epoch    GPU_mem   box_loss   obj_loss   cls_loss  Instances       Size\n",
            "      38/49      14.2G     0.0135   0.008173   0.002642         86        640: 100% 198/198 [03:38<00:00,  1.10s/it]\n",
            "                 Class     Images  Instances          P          R     mAP@.5 mAP@.5:.95: 100% 15/15 [00:07<00:00,  1.89it/s]\n",
            "                   all        452       1133      0.881       0.96       0.93      0.834\n",
            "\n",
            "      Epoch    GPU_mem   box_loss   obj_loss   cls_loss  Instances       Size\n",
            "      39/49      14.2G    0.01307   0.007896   0.002468         77        640: 100% 198/198 [03:38<00:00,  1.11s/it]\n",
            "                 Class     Images  Instances          P          R     mAP@.5 mAP@.5:.95: 100% 15/15 [00:08<00:00,  1.87it/s]\n",
            "                   all        452       1133      0.898      0.935      0.935      0.838\n",
            "\n",
            "      Epoch    GPU_mem   box_loss   obj_loss   cls_loss  Instances       Size\n",
            "      40/49      14.2G    0.01306   0.008004   0.002511         96        640: 100% 198/198 [03:39<00:00,  1.11s/it]\n",
            "                 Class     Images  Instances          P          R     mAP@.5 mAP@.5:.95: 100% 15/15 [00:07<00:00,  1.88it/s]\n",
            "                   all        452       1133      0.892      0.912      0.934      0.841\n",
            "\n",
            "      Epoch    GPU_mem   box_loss   obj_loss   cls_loss  Instances       Size\n",
            "      41/49      14.2G    0.01288   0.007706   0.002409         72        640: 100% 198/198 [03:39<00:00,  1.11s/it]\n",
            "                 Class     Images  Instances          P          R     mAP@.5 mAP@.5:.95: 100% 15/15 [00:07<00:00,  1.88it/s]\n",
            "                   all        452       1133      0.887      0.944      0.936       0.84\n",
            "\n",
            "      Epoch    GPU_mem   box_loss   obj_loss   cls_loss  Instances       Size\n",
            "      42/49      14.2G    0.01279   0.007642   0.002344         89        640: 100% 198/198 [03:39<00:00,  1.11s/it]\n",
            "                 Class     Images  Instances          P          R     mAP@.5 mAP@.5:.95: 100% 15/15 [00:07<00:00,  1.88it/s]\n",
            "                   all        452       1133       0.87      0.948      0.935      0.835\n",
            "\n",
            "      Epoch    GPU_mem   box_loss   obj_loss   cls_loss  Instances       Size\n",
            "      43/49      14.2G     0.0125   0.007728   0.002428         76        640: 100% 198/198 [03:39<00:00,  1.11s/it]\n",
            "                 Class     Images  Instances          P          R     mAP@.5 mAP@.5:.95: 100% 15/15 [00:07<00:00,  1.88it/s]\n",
            "                   all        452       1133      0.859      0.944      0.915      0.817\n",
            "\n",
            "      Epoch    GPU_mem   box_loss   obj_loss   cls_loss  Instances       Size\n",
            "      44/49      14.2G    0.01247   0.007675   0.002462         85        640: 100% 198/198 [03:38<00:00,  1.11s/it]\n",
            "                 Class     Images  Instances          P          R     mAP@.5 mAP@.5:.95: 100% 15/15 [00:07<00:00,  1.88it/s]\n",
            "                   all        452       1133      0.867      0.982      0.924      0.831\n",
            "\n",
            "      Epoch    GPU_mem   box_loss   obj_loss   cls_loss  Instances       Size\n",
            "      45/49      14.2G    0.01229   0.007604   0.002375         93        640: 100% 198/198 [03:39<00:00,  1.11s/it]\n",
            "                 Class     Images  Instances          P          R     mAP@.5 mAP@.5:.95: 100% 15/15 [00:07<00:00,  1.88it/s]\n",
            "                   all        452       1133      0.904      0.925       0.93      0.835\n",
            "\n",
            "      Epoch    GPU_mem   box_loss   obj_loss   cls_loss  Instances       Size\n",
            "      46/49      14.2G    0.01214   0.007615   0.002253         82        640: 100% 198/198 [03:38<00:00,  1.11s/it]\n",
            "                 Class     Images  Instances          P          R     mAP@.5 mAP@.5:.95: 100% 15/15 [00:07<00:00,  1.88it/s]\n",
            "                   all        452       1133      0.909      0.918      0.932      0.833\n",
            "\n",
            "      Epoch    GPU_mem   box_loss   obj_loss   cls_loss  Instances       Size\n",
            "      47/49      14.2G    0.01211   0.007457   0.002358        121        640:  93% 184/198 [03:24<00:15,  1.10s/it]"
          ]
        }
      ],
      "source": [
        "!python train.py --img 640 --batch 16 --epochs 50 --data /content/yollo/dataset.yaml --cfg yolov5x.yaml --weights yolov5x.pt --cache --hyp hyp.scratch-high.yaml\n",
        "#                  img size\n",
        "#!cp -R /content/yolov5 /content/gdrive/MyDrive/Internship_car/yollo\n",
        "\n"
      ]
    },
    {
      "cell_type": "markdown",
      "metadata": {
        "id": "KPWdkhMSu2K8"
      },
      "source": [
        "Note :  Always train from a local dataset. Mounted or network drives like Google Drive will be very slow"
      ]
    },
    {
      "cell_type": "code",
      "source": [
        "!cp -r \"/content/yolov5/runs/train/exp/weights/best.pt\" \"/content/gdrive/MyDrive/Internship_car/Weights/\""
      ],
      "metadata": {
        "id": "daH_MPX04Wh5"
      },
      "execution_count": null,
      "outputs": []
    },
    {
      "cell_type": "code",
      "execution_count": null,
      "metadata": {
        "colab": {
          "base_uri": "https://localhost:8080/",
          "height": 345
        },
        "id": "WnC_xblKKuPv",
        "outputId": "c087b6c0-d0db-4083-fdac-04564272de03"
      },
      "outputs": [
        {
          "output_type": "error",
          "ename": "FileNotFoundError",
          "evalue": "ignored",
          "traceback": [
            "\u001b[0;31m---------------------------------------------------------------------------\u001b[0m",
            "\u001b[0;31mFileNotFoundError\u001b[0m                         Traceback (most recent call last)",
            "\u001b[0;32m<ipython-input-19-9ba6bc861b5c>\u001b[0m in \u001b[0;36m<module>\u001b[0;34m\u001b[0m\n\u001b[1;32m      1\u001b[0m \u001b[0;36m33\u001b[0m\u001b[0;31m# we can also output some older school graphs if the tensor board isn't working for whatever reason...\u001b[0m\u001b[0;34m\u001b[0m\u001b[0;34m\u001b[0m\u001b[0m\n\u001b[1;32m      2\u001b[0m \u001b[0;32mfrom\u001b[0m \u001b[0mutils\u001b[0m\u001b[0;34m.\u001b[0m\u001b[0mplots\u001b[0m \u001b[0;32mimport\u001b[0m \u001b[0mplot_results\u001b[0m  \u001b[0;31m# plot results.txt as results.png\u001b[0m\u001b[0;34m\u001b[0m\u001b[0;34m\u001b[0m\u001b[0m\n\u001b[0;32m----> 3\u001b[0;31m \u001b[0mImage\u001b[0m\u001b[0;34m(\u001b[0m\u001b[0mfilename\u001b[0m\u001b[0;34m=\u001b[0m\u001b[0;34m'/content/yolov5/runs/train/exp/results.png'\u001b[0m\u001b[0;34m,\u001b[0m \u001b[0mwidth\u001b[0m\u001b[0;34m=\u001b[0m\u001b[0;36m1000\u001b[0m\u001b[0;34m)\u001b[0m  \u001b[0;31m# view results.png\u001b[0m\u001b[0;34m\u001b[0m\u001b[0;34m\u001b[0m\u001b[0m\n\u001b[0m",
            "\u001b[0;32m/usr/local/lib/python3.7/dist-packages/IPython/core/display.py\u001b[0m in \u001b[0;36m__init__\u001b[0;34m(self, data, url, filename, format, embed, width, height, retina, unconfined, metadata)\u001b[0m\n\u001b[1;32m   1202\u001b[0m         \u001b[0mself\u001b[0m\u001b[0;34m.\u001b[0m\u001b[0munconfined\u001b[0m \u001b[0;34m=\u001b[0m \u001b[0munconfined\u001b[0m\u001b[0;34m\u001b[0m\u001b[0;34m\u001b[0m\u001b[0m\n\u001b[1;32m   1203\u001b[0m         super(Image, self).__init__(data=data, url=url, filename=filename, \n\u001b[0;32m-> 1204\u001b[0;31m                 metadata=metadata)\n\u001b[0m\u001b[1;32m   1205\u001b[0m \u001b[0;34m\u001b[0m\u001b[0m\n\u001b[1;32m   1206\u001b[0m         \u001b[0;32mif\u001b[0m \u001b[0mself\u001b[0m\u001b[0;34m.\u001b[0m\u001b[0mwidth\u001b[0m \u001b[0;32mis\u001b[0m \u001b[0;32mNone\u001b[0m \u001b[0;32mand\u001b[0m \u001b[0mself\u001b[0m\u001b[0;34m.\u001b[0m\u001b[0mmetadata\u001b[0m\u001b[0;34m.\u001b[0m\u001b[0mget\u001b[0m\u001b[0;34m(\u001b[0m\u001b[0;34m'width'\u001b[0m\u001b[0;34m,\u001b[0m \u001b[0;34m{\u001b[0m\u001b[0;34m}\u001b[0m\u001b[0;34m)\u001b[0m\u001b[0;34m:\u001b[0m\u001b[0;34m\u001b[0m\u001b[0;34m\u001b[0m\u001b[0m\n",
            "\u001b[0;32m/usr/local/lib/python3.7/dist-packages/IPython/core/display.py\u001b[0m in \u001b[0;36m__init__\u001b[0;34m(self, data, url, filename, metadata)\u001b[0m\n\u001b[1;32m    625\u001b[0m             \u001b[0mself\u001b[0m\u001b[0;34m.\u001b[0m\u001b[0mmetadata\u001b[0m \u001b[0;34m=\u001b[0m \u001b[0;34m{\u001b[0m\u001b[0;34m}\u001b[0m\u001b[0;34m\u001b[0m\u001b[0;34m\u001b[0m\u001b[0m\n\u001b[1;32m    626\u001b[0m \u001b[0;34m\u001b[0m\u001b[0m\n\u001b[0;32m--> 627\u001b[0;31m         \u001b[0mself\u001b[0m\u001b[0;34m.\u001b[0m\u001b[0mreload\u001b[0m\u001b[0;34m(\u001b[0m\u001b[0;34m)\u001b[0m\u001b[0;34m\u001b[0m\u001b[0;34m\u001b[0m\u001b[0m\n\u001b[0m\u001b[1;32m    628\u001b[0m         \u001b[0mself\u001b[0m\u001b[0;34m.\u001b[0m\u001b[0m_check_data\u001b[0m\u001b[0;34m(\u001b[0m\u001b[0;34m)\u001b[0m\u001b[0;34m\u001b[0m\u001b[0;34m\u001b[0m\u001b[0m\n\u001b[1;32m    629\u001b[0m \u001b[0;34m\u001b[0m\u001b[0m\n",
            "\u001b[0;32m/usr/local/lib/python3.7/dist-packages/IPython/core/display.py\u001b[0m in \u001b[0;36mreload\u001b[0;34m(self)\u001b[0m\n\u001b[1;32m   1233\u001b[0m         \u001b[0;34m\"\"\"Reload the raw data from file or URL.\"\"\"\u001b[0m\u001b[0;34m\u001b[0m\u001b[0;34m\u001b[0m\u001b[0m\n\u001b[1;32m   1234\u001b[0m         \u001b[0;32mif\u001b[0m \u001b[0mself\u001b[0m\u001b[0;34m.\u001b[0m\u001b[0membed\u001b[0m\u001b[0;34m:\u001b[0m\u001b[0;34m\u001b[0m\u001b[0;34m\u001b[0m\u001b[0m\n\u001b[0;32m-> 1235\u001b[0;31m             \u001b[0msuper\u001b[0m\u001b[0;34m(\u001b[0m\u001b[0mImage\u001b[0m\u001b[0;34m,\u001b[0m\u001b[0mself\u001b[0m\u001b[0;34m)\u001b[0m\u001b[0;34m.\u001b[0m\u001b[0mreload\u001b[0m\u001b[0;34m(\u001b[0m\u001b[0;34m)\u001b[0m\u001b[0;34m\u001b[0m\u001b[0;34m\u001b[0m\u001b[0m\n\u001b[0m\u001b[1;32m   1236\u001b[0m             \u001b[0;32mif\u001b[0m \u001b[0mself\u001b[0m\u001b[0;34m.\u001b[0m\u001b[0mretina\u001b[0m\u001b[0;34m:\u001b[0m\u001b[0;34m\u001b[0m\u001b[0;34m\u001b[0m\u001b[0m\n\u001b[1;32m   1237\u001b[0m                 \u001b[0mself\u001b[0m\u001b[0;34m.\u001b[0m\u001b[0m_retina_shape\u001b[0m\u001b[0;34m(\u001b[0m\u001b[0;34m)\u001b[0m\u001b[0;34m\u001b[0m\u001b[0;34m\u001b[0m\u001b[0m\n",
            "\u001b[0;32m/usr/local/lib/python3.7/dist-packages/IPython/core/display.py\u001b[0m in \u001b[0;36mreload\u001b[0;34m(self)\u001b[0m\n\u001b[1;32m    650\u001b[0m         \u001b[0;34m\"\"\"Reload the raw data from file or URL.\"\"\"\u001b[0m\u001b[0;34m\u001b[0m\u001b[0;34m\u001b[0m\u001b[0m\n\u001b[1;32m    651\u001b[0m         \u001b[0;32mif\u001b[0m \u001b[0mself\u001b[0m\u001b[0;34m.\u001b[0m\u001b[0mfilename\u001b[0m \u001b[0;32mis\u001b[0m \u001b[0;32mnot\u001b[0m \u001b[0;32mNone\u001b[0m\u001b[0;34m:\u001b[0m\u001b[0;34m\u001b[0m\u001b[0;34m\u001b[0m\u001b[0m\n\u001b[0;32m--> 652\u001b[0;31m             \u001b[0;32mwith\u001b[0m \u001b[0mopen\u001b[0m\u001b[0;34m(\u001b[0m\u001b[0mself\u001b[0m\u001b[0;34m.\u001b[0m\u001b[0mfilename\u001b[0m\u001b[0;34m,\u001b[0m \u001b[0mself\u001b[0m\u001b[0;34m.\u001b[0m\u001b[0m_read_flags\u001b[0m\u001b[0;34m)\u001b[0m \u001b[0;32mas\u001b[0m \u001b[0mf\u001b[0m\u001b[0;34m:\u001b[0m\u001b[0;34m\u001b[0m\u001b[0;34m\u001b[0m\u001b[0m\n\u001b[0m\u001b[1;32m    653\u001b[0m                 \u001b[0mself\u001b[0m\u001b[0;34m.\u001b[0m\u001b[0mdata\u001b[0m \u001b[0;34m=\u001b[0m \u001b[0mf\u001b[0m\u001b[0;34m.\u001b[0m\u001b[0mread\u001b[0m\u001b[0;34m(\u001b[0m\u001b[0;34m)\u001b[0m\u001b[0;34m\u001b[0m\u001b[0;34m\u001b[0m\u001b[0m\n\u001b[1;32m    654\u001b[0m         \u001b[0;32melif\u001b[0m \u001b[0mself\u001b[0m\u001b[0;34m.\u001b[0m\u001b[0murl\u001b[0m \u001b[0;32mis\u001b[0m \u001b[0;32mnot\u001b[0m \u001b[0;32mNone\u001b[0m\u001b[0;34m:\u001b[0m\u001b[0;34m\u001b[0m\u001b[0;34m\u001b[0m\u001b[0m\n",
            "\u001b[0;31mFileNotFoundError\u001b[0m: [Errno 2] No such file or directory: '/content/yolov5/runs/train/exp/results.png'"
          ]
        }
      ],
      "source": [
        "33# we can also output some older school graphs if the tensor board isn't working for whatever reason...\n",
        "from utils.plots import plot_results  # plot results.txt as results.png\n",
        "Image(filename='/content/yolov5/runs/train/exp/results.png', width=1000)  # view results.png"
      ]
    },
    {
      "cell_type": "code",
      "execution_count": null,
      "metadata": {
        "id": "ylBUAU8DuNyp"
      },
      "outputs": [],
      "source": [
        "# first, display our ground truth data\n",
        "print(\"GROUND TRUTH TRAINING DATA:\")\n",
        "Image(filename='/content/yolov5/runs/train/exp/val_batch0_labels.jpg', width=900)"
      ]
    },
    {
      "cell_type": "code",
      "execution_count": null,
      "metadata": {
        "id": "CAbs1y6KufuH"
      },
      "outputs": [],
      "source": [
        "# Test\n",
        "!python detect.py --weights /content/yolov5/runs/train/exp/weights/best.pt --img 416 --conf 0.4 --source /content/yollo/images/test"
      ]
    },
    {
      "cell_type": "code",
      "execution_count": null,
      "metadata": {
        "id": "uPyK1456vRKG"
      },
      "outputs": [],
      "source": [
        "#display inference on ALL test images\n",
        "#this looks much better with longer training above\n",
        "\n",
        "import glob\n",
        "from IPython.display import Image, display\n",
        "\n",
        "for imageName in glob.glob('/content/yolov5/runs/detect/exp3/*.jpg'): #assuming JPG\n",
        "    display(Image(filename=imageName))\n",
        "    print(\"\\n\")"
      ]
    },
    {
      "cell_type": "code",
      "execution_count": null,
      "metadata": {
        "id": "qCSDfSt_G1wB"
      },
      "outputs": [],
      "source": []
    },
    {
      "cell_type": "code",
      "execution_count": null,
      "metadata": {
        "id": "jYMVfTenv2Gc"
      },
      "outputs": [],
      "source": [
        "!python detect.py --weights /content/yolov5/runs/train/exp/weights/best.pt --img 416 --conf 0.4 --source /content/gdrive/MyDrive/Internship_car/testC"
      ]
    },
    {
      "cell_type": "code",
      "execution_count": null,
      "metadata": {
        "id": "ibPk2X1sNbFv"
      },
      "outputs": [],
      "source": [
        "!cp -R /content/yolov5/runs/detect/exp /content/drive/MyDrive/Internship/yollo\n"
      ]
    },
    {
      "cell_type": "markdown",
      "metadata": {
        "id": "PXXs5UmQN3m-"
      },
      "source": [
        "*** Can see Output : https://drive.google.com/drive/folders/1LW0Iikm_YwZQS3IUZ_V3qeq9F4GSbsqw?usp=sharing ***"
      ]
    },
    {
      "cell_type": "code",
      "execution_count": null,
      "metadata": {
        "id": "-GZVrNsVLTDj"
      },
      "outputs": [],
      "source": [
        "import glob\n",
        "from IPython.display import Image, display\n",
        "\n",
        "for imageName in glob.glob('/content/yolov5/runs/detect/exp/*.png'): #assuming JPG\n",
        "    display(Image(filename=imageName))\n",
        "    print(\"\\n\")"
      ]
    },
    {
      "cell_type": "code",
      "execution_count": null,
      "metadata": {
        "id": "MP6XZgWxLnBF"
      },
      "outputs": [],
      "source": [
        "!python val.py --weights /content/yolov5/runs/train/exp/weights/best.pt --img 416 --data /content/yollo/dataset.yaml --task test --name yolo_test\n"
      ]
    },
    {
      "cell_type": "code",
      "execution_count": null,
      "metadata": {
        "id": "8pVNspIBXj2o"
      },
      "outputs": [],
      "source": []
    },
    {
      "cell_type": "markdown",
      "metadata": {
        "id": "dHGA4pL7cxSm"
      },
      "source": [
        "# Exporting the model"
      ]
    },
    {
      "cell_type": "code",
      "execution_count": null,
      "metadata": {
        "id": "DUHIC8Qoc1ob"
      },
      "outputs": [],
      "source": [
        "!python export.py --weights yolov5s.pt"
      ]
    },
    {
      "cell_type": "code",
      "execution_count": null,
      "metadata": {
        "id": "TJiEdsZMdYwH"
      },
      "outputs": [],
      "source": [
        "from google.colab import drive\n",
        "drive.flush_and_unmount()"
      ]
    },
    {
      "cell_type": "code",
      "source": [],
      "metadata": {
        "id": "xi2UE-VjpwD3"
      },
      "execution_count": null,
      "outputs": []
    },
    {
      "cell_type": "code",
      "source": [],
      "metadata": {
        "id": "B-8bw95mWBHA"
      },
      "execution_count": null,
      "outputs": []
    }
  ],
  "metadata": {
    "accelerator": "GPU",
    "colab": {
      "provenance": [],
      "include_colab_link": true
    },
    "gpuClass": "standard",
    "kernelspec": {
      "display_name": "Python 3",
      "name": "python3"
    },
    "language_info": {
      "name": "python"
    }
  },
  "nbformat": 4,
  "nbformat_minor": 0
}